{
 "cells": [
  {
   "cell_type": "code",
   "execution_count": 33,
   "metadata": {},
   "outputs": [],
   "source": [
    "import requests\n",
    "\n",
    "def baixar_arquivo(url, endereco):\n",
    "    # faz requisição ao servidor\n",
    "    resposta = requests.get(url)\n",
    "    with open (endereco, 'wb') as novo_arquivo:\n",
    "        novo_arquivo.write(resposta.content)\n",
    "\n",
    "if __name__ == \"__main__\":\n",
    "    baixar_arquivo('https://www.dadosmundiais.com/downloads/example-countries-pt.csv', 'dataset_contries.csv')"
   ]
  }
 ],
 "metadata": {
  "kernelspec": {
   "display_name": "Python 3",
   "language": "python",
   "name": "python3"
  },
  "language_info": {
   "codemirror_mode": {
    "name": "ipython",
    "version": 3
   },
   "file_extension": ".py",
   "mimetype": "text/x-python",
   "name": "python",
   "nbconvert_exporter": "python",
   "pygments_lexer": "ipython3",
   "version": "3.10.7"
  },
  "orig_nbformat": 4,
  "vscode": {
   "interpreter": {
    "hash": "0f4aad36e1a7834f44c14e84b98527cfbefef55e7a336cfec74130d804d73c8f"
   }
  }
 },
 "nbformat": 4,
 "nbformat_minor": 2
}
